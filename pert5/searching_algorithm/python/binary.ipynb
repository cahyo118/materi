{
 "cells": [
  {
   "cell_type": "code",
   "execution_count": null,
   "id": "5c361264",
   "metadata": {},
   "outputs": [],
   "source": [
    "def bs(arr, target):\n",
    "    left,right = 0, len(arr)-1\n",
    "    while left <= right :\n",
    "        mid = left + (right-left)//2\n",
    "        if arr[mid] == target: \n",
    "            return mid\n",
    "        elif arr[mid] < target:\n",
    "            left = mid + 1\n",
    "        else:\n",
    "            right = mid - 1\n",
    "    return -1\n",
    "\n",
    "data = [1,3,7,5]\n",
    "target = 3\n",
    "\n",
    "result = bs(data,target)\n",
    "if result == -1:\n",
    "    print(\"not found\")\n",
    "else:\n",
    "    print(f\"found di indeks ke -  {result}\")"
   ]
  }
 ],
 "metadata": {
  "language_info": {
   "name": "python"
  }
 },
 "nbformat": 4,
 "nbformat_minor": 5
}
