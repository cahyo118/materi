{
 "cells": [
  {
   "cell_type": "code",
   "execution_count": null,
   "id": "bbaba6cb",
   "metadata": {},
   "outputs": [],
   "source": [
    "motor = [\"Honda\", \"Suzuki\", \"Yamaha\"]\n",
    "print(motor[0])\n",
    "print(motor[1])\n",
    "print(motor[2])\n"
   ]
  }
 ],
 "metadata": {
  "language_info": {
   "name": "python"
  }
 },
 "nbformat": 4,
 "nbformat_minor": 5
}
