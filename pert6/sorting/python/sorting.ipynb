{
 "cells": [
  {
   "cell_type": "code",
   "execution_count": null,
   "id": "e6ae1a60",
   "metadata": {},
   "outputs": [],
   "source": [
    "def selection_sort(arr):\n",
    "    n = len(arr)\n",
    "    for i in range(n-1):\n",
    "        minIndex = i\n",
    "        for j in range(i + 1, n):\n",
    "            if arr[j] < arr[minIndex]:\n",
    "                minIndex = j\n",
    "        if minIndex != i:\n",
    "            arr[i], arr[minIndex] = arr[minIndex], arr[i]\n",
    "\n",
    "def bubble_sort(arr):\n",
    "    n = len(arr)\n",
    "    for i in range(n -1):\n",
    "        for j in range(n - 1 - i):\n",
    "            if arr[j] > arr[j + 1]:\n",
    "                arr[j], arr[j + 1] = arr[j + 1], arr[j]\n",
    "\n",
    "data = [1,2,5,4,3,7]\n",
    "print(\"Data : \", data)\n",
    "## SELECTION SORT\n",
    "ss = data.copy()\n",
    "selection_sort(ss)\n",
    "print (\"selection sort \", ss)\n",
    "\n",
    "## BUBBLE SORT\n",
    "bs = data.copy()\n",
    "bubble_sort(bs)\n",
    "print(\"bubble sort: \", bs)"
   ]
  }
 ],
 "metadata": {
  "language_info": {
   "name": "python"
  }
 },
 "nbformat": 4,
 "nbformat_minor": 5
}
